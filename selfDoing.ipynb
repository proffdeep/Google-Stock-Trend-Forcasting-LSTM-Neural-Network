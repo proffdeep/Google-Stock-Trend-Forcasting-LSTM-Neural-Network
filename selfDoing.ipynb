{
 "cells": [
  {
   "cell_type": "code",
   "execution_count": 1,
   "metadata": {},
   "outputs": [],
   "source": [
    "import numpy as np\n",
    "import pandas as pd\n",
    "import matplotlib.pyplot as plt\n",
    "from tensorflow import keras\n",
    "from sklearn.preprocessing import MinMaxScaler"
   ]
  },
  {
   "cell_type": "code",
   "execution_count": 8,
   "metadata": {},
   "outputs": [],
   "source": [
    "dataset_train = pd.read_csv('Google_Stock_Price_Train.csv',index_col='Date')\n",
    "dataset_test = pd.read_csv('Google_Stock_Price_Test.csv',index_col='Date')"
   ]
  },
  {
   "cell_type": "code",
   "execution_count": 9,
   "metadata": {},
   "outputs": [
    {
     "data": {
      "text/html": [
       "<div>\n",
       "<style scoped>\n",
       "    .dataframe tbody tr th:only-of-type {\n",
       "        vertical-align: middle;\n",
       "    }\n",
       "\n",
       "    .dataframe tbody tr th {\n",
       "        vertical-align: top;\n",
       "    }\n",
       "\n",
       "    .dataframe thead th {\n",
       "        text-align: right;\n",
       "    }\n",
       "</style>\n",
       "<table border=\"1\" class=\"dataframe\">\n",
       "  <thead>\n",
       "    <tr style=\"text-align: right;\">\n",
       "      <th></th>\n",
       "      <th>Open</th>\n",
       "      <th>High</th>\n",
       "      <th>Low</th>\n",
       "      <th>Close</th>\n",
       "      <th>Volume</th>\n",
       "    </tr>\n",
       "    <tr>\n",
       "      <th>Date</th>\n",
       "      <th></th>\n",
       "      <th></th>\n",
       "      <th></th>\n",
       "      <th></th>\n",
       "      <th></th>\n",
       "    </tr>\n",
       "  </thead>\n",
       "  <tbody>\n",
       "    <tr>\n",
       "      <th>1/3/2012</th>\n",
       "      <td>325.25</td>\n",
       "      <td>332.83</td>\n",
       "      <td>324.97</td>\n",
       "      <td>663.59</td>\n",
       "      <td>7,380,500</td>\n",
       "    </tr>\n",
       "    <tr>\n",
       "      <th>1/4/2012</th>\n",
       "      <td>331.27</td>\n",
       "      <td>333.87</td>\n",
       "      <td>329.08</td>\n",
       "      <td>666.45</td>\n",
       "      <td>5,749,400</td>\n",
       "    </tr>\n",
       "    <tr>\n",
       "      <th>1/5/2012</th>\n",
       "      <td>329.83</td>\n",
       "      <td>330.75</td>\n",
       "      <td>326.89</td>\n",
       "      <td>657.21</td>\n",
       "      <td>6,590,300</td>\n",
       "    </tr>\n",
       "  </tbody>\n",
       "</table>\n",
       "</div>"
      ],
      "text/plain": [
       "            Open    High     Low   Close     Volume\n",
       "Date                                               \n",
       "1/3/2012  325.25  332.83  324.97  663.59  7,380,500\n",
       "1/4/2012  331.27  333.87  329.08  666.45  5,749,400\n",
       "1/5/2012  329.83  330.75  326.89  657.21  6,590,300"
      ]
     },
     "execution_count": 9,
     "metadata": {},
     "output_type": "execute_result"
    }
   ],
   "source": [
    "dataset_train.head(3)"
   ]
  },
  {
   "cell_type": "code",
   "execution_count": 32,
   "metadata": {},
   "outputs": [],
   "source": [
    "training_set = dataset_train.iloc[:,1:2].values"
   ]
  },
  {
   "cell_type": "code",
   "execution_count": 33,
   "metadata": {},
   "outputs": [
    {
     "data": {
      "text/plain": [
       "(1258, 1)"
      ]
     },
     "execution_count": 33,
     "metadata": {},
     "output_type": "execute_result"
    }
   ],
   "source": [
    "training_set.shape"
   ]
  },
  {
   "cell_type": "code",
   "execution_count": 39,
   "metadata": {},
   "outputs": [],
   "source": [
    "sc = MinMaxScaler()\n",
    "training_set_scaled = sc.fit_transform(X = training_set)"
   ]
  },
  {
   "cell_type": "code",
   "execution_count": 42,
   "metadata": {},
   "outputs": [],
   "source": [
    "#create a special data structure\n",
    "X_train = []\n",
    "y_train = []\n",
    "time_step = 60\n",
    "for i in range(time_step,training_set.shape[0]):\n",
    "    X_train.append(training_set_scaled[i-60:i,0])\n",
    "    y_train.append(training_set_scaled[i,0])"
   ]
  },
  {
   "cell_type": "code",
   "execution_count": 43,
   "metadata": {},
   "outputs": [],
   "source": [
    "X_train , y_train = np.array(X_train), np.array(y_train)"
   ]
  },
  {
   "cell_type": "code",
   "execution_count": 45,
   "metadata": {},
   "outputs": [],
   "source": [
    "X_train = np.reshape(X_train,(X_train.shape[0],X_train.shape[1],1))"
   ]
  },
  {
   "cell_type": "code",
   "execution_count": 51,
   "metadata": {},
   "outputs": [],
   "source": [
    "from tensorflow.keras.layers import LSTM,Dropout,Dense\n",
    "from tensorflow.keras.models import Sequential"
   ]
  },
  {
   "cell_type": "code",
   "execution_count": 52,
   "metadata": {},
   "outputs": [],
   "source": [
    "model = Sequential([\n",
    "    LSTM(50,return_sequences=True,input_shape=[X_train.shape[1],1]),\n",
    "    Dropout(0.2),\n",
    "    \n",
    "    LSTM(50,return_sequences=True),\n",
    "    Dropout(0.2),\n",
    "    \n",
    "    LSTM(50,return_sequences=True),\n",
    "    Dropout(0.2),\n",
    "    \n",
    "    LSTM(50),\n",
    "    Dropout(0.2),\n",
    "    \n",
    "    Dense(1)\n",
    "])"
   ]
  },
  {
   "cell_type": "code",
   "execution_count": 53,
   "metadata": {},
   "outputs": [
    {
     "name": "stdout",
     "output_type": "stream",
     "text": [
      "Model: \"sequential\"\n",
      "_________________________________________________________________\n",
      "Layer (type)                 Output Shape              Param #   \n",
      "=================================================================\n",
      "lstm (LSTM)                  (None, 60, 50)            10400     \n",
      "_________________________________________________________________\n",
      "dropout (Dropout)            (None, 60, 50)            0         \n",
      "_________________________________________________________________\n",
      "lstm_1 (LSTM)                (None, 60, 50)            20200     \n",
      "_________________________________________________________________\n",
      "dropout_1 (Dropout)          (None, 60, 50)            0         \n",
      "_________________________________________________________________\n",
      "lstm_2 (LSTM)                (None, 60, 50)            20200     \n",
      "_________________________________________________________________\n",
      "dropout_2 (Dropout)          (None, 60, 50)            0         \n",
      "_________________________________________________________________\n",
      "lstm_3 (LSTM)                (None, 50)                20200     \n",
      "_________________________________________________________________\n",
      "dropout_3 (Dropout)          (None, 50)                0         \n",
      "_________________________________________________________________\n",
      "dense (Dense)                (None, 1)                 51        \n",
      "=================================================================\n",
      "Total params: 71,051\n",
      "Trainable params: 71,051\n",
      "Non-trainable params: 0\n",
      "_________________________________________________________________\n"
     ]
    }
   ],
   "source": [
    "model.compile(loss='mean_squared_error',optimizer='adam')\n",
    "model.summary()"
   ]
  },
  {
   "cell_type": "code",
   "execution_count": 54,
   "metadata": {},
   "outputs": [
    {
     "name": "stdout",
     "output_type": "stream",
     "text": [
      "Epoch 1/100\n",
      "38/38 [==============================] - 6s 160ms/step - loss: 0.0400\n",
      "Epoch 2/100\n",
      "38/38 [==============================] - 6s 146ms/step - loss: 0.0078\n",
      "Epoch 3/100\n",
      "38/38 [==============================] - 6s 148ms/step - loss: 0.0058\n",
      "Epoch 4/100\n",
      "38/38 [==============================] - 5s 144ms/step - loss: 0.0054\n",
      "Epoch 5/100\n",
      "38/38 [==============================] - 6s 156ms/step - loss: 0.0060\n",
      "Epoch 6/100\n",
      "38/38 [==============================] - 7s 190ms/step - loss: 0.0060\n",
      "Epoch 7/100\n",
      "38/38 [==============================] - 5s 142ms/step - loss: 0.0057\n",
      "Epoch 8/100\n",
      "38/38 [==============================] - 6s 159ms/step - loss: 0.0047\n",
      "Epoch 9/100\n",
      "38/38 [==============================] - 5s 139ms/step - loss: 0.0053\n",
      "Epoch 10/100\n",
      "38/38 [==============================] - 5s 141ms/step - loss: 0.0049\n",
      "Epoch 11/100\n",
      "38/38 [==============================] - 5s 143ms/step - loss: 0.0043\n",
      "Epoch 12/100\n",
      "38/38 [==============================] - 6s 146ms/step - loss: 0.0045\n",
      "Epoch 13/100\n",
      "38/38 [==============================] - 6s 151ms/step - loss: 0.0040\n",
      "Epoch 14/100\n",
      "38/38 [==============================] - 6s 153ms/step - loss: 0.0042\n",
      "Epoch 15/100\n",
      "38/38 [==============================] - 5s 144ms/step - loss: 0.0050\n",
      "Epoch 16/100\n",
      "38/38 [==============================] - 5s 142ms/step - loss: 0.0043\n",
      "Epoch 17/100\n",
      "38/38 [==============================] - 5s 143ms/step - loss: 0.0046\n",
      "Epoch 18/100\n",
      "38/38 [==============================] - 5s 143ms/step - loss: 0.0040\n",
      "Epoch 19/100\n",
      "38/38 [==============================] - 5s 143ms/step - loss: 0.0037\n",
      "Epoch 20/100\n",
      "38/38 [==============================] - 5s 143ms/step - loss: 0.0034\n",
      "Epoch 21/100\n",
      "38/38 [==============================] - 5s 143ms/step - loss: 0.0039\n",
      "Epoch 22/100\n",
      "38/38 [==============================] - 5s 142ms/step - loss: 0.0042\n",
      "Epoch 23/100\n",
      "38/38 [==============================] - 5s 144ms/step - loss: 0.0033\n",
      "Epoch 24/100\n",
      "38/38 [==============================] - 6s 151ms/step - loss: 0.0034\n",
      "Epoch 25/100\n",
      "38/38 [==============================] - 5s 142ms/step - loss: 0.0035\n",
      "Epoch 26/100\n",
      "38/38 [==============================] - 6s 158ms/step - loss: 0.0032\n",
      "Epoch 27/100\n",
      "38/38 [==============================] - 6s 151ms/step - loss: 0.0032\n",
      "Epoch 28/100\n",
      "38/38 [==============================] - 6s 145ms/step - loss: 0.0031\n",
      "Epoch 29/100\n",
      "38/38 [==============================] - 6s 150ms/step - loss: 0.0032\n",
      "Epoch 30/100\n",
      "38/38 [==============================] - 6s 154ms/step - loss: 0.0032\n",
      "Epoch 31/100\n",
      "38/38 [==============================] - 6s 151ms/step - loss: 0.0030\n",
      "Epoch 32/100\n",
      "38/38 [==============================] - 5s 142ms/step - loss: 0.0029\n",
      "Epoch 33/100\n",
      "38/38 [==============================] - 6s 151ms/step - loss: 0.0033\n",
      "Epoch 34/100\n",
      "38/38 [==============================] - 5s 142ms/step - loss: 0.0028\n",
      "Epoch 35/100\n",
      "38/38 [==============================] - 6s 148ms/step - loss: 0.0031\n",
      "Epoch 36/100\n",
      "38/38 [==============================] - 6s 157ms/step - loss: 0.0028\n",
      "Epoch 37/100\n",
      "38/38 [==============================] - 7s 181ms/step - loss: 0.0027\n",
      "Epoch 38/100\n",
      "38/38 [==============================] - 6s 169ms/step - loss: 0.0034\n",
      "Epoch 39/100\n",
      "38/38 [==============================] - 7s 178ms/step - loss: 0.0035\n",
      "Epoch 40/100\n",
      "38/38 [==============================] - 6s 166ms/step - loss: 0.0028\n",
      "Epoch 41/100\n",
      "38/38 [==============================] - 6s 150ms/step - loss: 0.0027\n",
      "Epoch 42/100\n",
      "38/38 [==============================] - 6s 154ms/step - loss: 0.0024\n",
      "Epoch 43/100\n",
      "38/38 [==============================] - 6s 155ms/step - loss: 0.0025\n",
      "Epoch 44/100\n",
      "38/38 [==============================] - 6s 150ms/step - loss: 0.0024\n",
      "Epoch 45/100\n",
      "38/38 [==============================] - 6s 165ms/step - loss: 0.0024\n",
      "Epoch 46/100\n",
      "38/38 [==============================] - 6s 170ms/step - loss: 0.0025\n",
      "Epoch 47/100\n",
      "38/38 [==============================] - 6s 165ms/step - loss: 0.0026\n",
      "Epoch 48/100\n",
      "38/38 [==============================] - 6s 152ms/step - loss: 0.0025\n",
      "Epoch 49/100\n",
      "38/38 [==============================] - 6s 154ms/step - loss: 0.0025\n",
      "Epoch 50/100\n",
      "38/38 [==============================] - 6s 148ms/step - loss: 0.0022\n",
      "Epoch 51/100\n",
      "38/38 [==============================] - 6s 150ms/step - loss: 0.0026\n",
      "Epoch 52/100\n",
      "38/38 [==============================] - 6s 154ms/step - loss: 0.0026\n",
      "Epoch 53/100\n",
      "38/38 [==============================] - 5s 143ms/step - loss: 0.0025\n",
      "Epoch 54/100\n",
      "38/38 [==============================] - 7s 175ms/step - loss: 0.0023\n",
      "Epoch 55/100\n",
      "38/38 [==============================] - 7s 175ms/step - loss: 0.0022\n",
      "Epoch 56/100\n",
      "38/38 [==============================] - 6s 171ms/step - loss: 0.0024\n",
      "Epoch 57/100\n",
      "38/38 [==============================] - 7s 192ms/step - loss: 0.0023\n",
      "Epoch 58/100\n",
      "38/38 [==============================] - 7s 175ms/step - loss: 0.0024\n",
      "Epoch 59/100\n",
      "38/38 [==============================] - 6s 170ms/step - loss: 0.0022\n",
      "Epoch 60/100\n",
      "38/38 [==============================] - 5s 144ms/step - loss: 0.0025\n",
      "Epoch 61/100\n",
      "38/38 [==============================] - 6s 145ms/step - loss: 0.0021\n",
      "Epoch 62/100\n",
      "38/38 [==============================] - 6s 146ms/step - loss: 0.0022\n",
      "Epoch 63/100\n",
      "38/38 [==============================] - 5s 142ms/step - loss: 0.0023\n",
      "Epoch 64/100\n",
      "38/38 [==============================] - 7s 174ms/step - loss: 0.0019\n",
      "Epoch 65/100\n",
      "38/38 [==============================] - 7s 173ms/step - loss: 0.0019\n",
      "Epoch 66/100\n",
      "38/38 [==============================] - 7s 173ms/step - loss: 0.0019\n",
      "Epoch 67/100\n",
      "38/38 [==============================] - 6s 156ms/step - loss: 0.0017\n",
      "Epoch 68/100\n",
      "38/38 [==============================] - 6s 150ms/step - loss: 0.0020\n",
      "Epoch 69/100\n",
      "38/38 [==============================] - 6s 158ms/step - loss: 0.0019\n",
      "Epoch 70/100\n",
      "38/38 [==============================] - 6s 151ms/step - loss: 0.0020\n",
      "Epoch 71/100\n",
      "38/38 [==============================] - 6s 152ms/step - loss: 0.0020\n",
      "Epoch 72/100\n",
      "38/38 [==============================] - 6s 159ms/step - loss: 0.0017\n",
      "Epoch 73/100\n",
      "38/38 [==============================] - 6s 152ms/step - loss: 0.0017\n",
      "Epoch 74/100\n",
      "38/38 [==============================] - 6s 152ms/step - loss: 0.0020\n",
      "Epoch 75/100\n",
      "38/38 [==============================] - 6s 156ms/step - loss: 0.0017\n",
      "Epoch 76/100\n",
      "38/38 [==============================] - 6s 153ms/step - loss: 0.0017\n",
      "Epoch 77/100\n",
      "38/38 [==============================] - 6s 146ms/step - loss: 0.0016\n",
      "Epoch 78/100\n",
      "38/38 [==============================] - 6s 152ms/step - loss: 0.0016\n",
      "Epoch 79/100\n",
      "38/38 [==============================] - 6s 149ms/step - loss: 0.0017\n",
      "Epoch 80/100\n",
      "38/38 [==============================] - 6s 153ms/step - loss: 0.0017 1s - los\n",
      "Epoch 81/100\n",
      "38/38 [==============================] - 6s 151ms/step - loss: 0.0015\n",
      "Epoch 82/100\n",
      "38/38 [==============================] - 6s 153ms/step - loss: 0.0018 1s \n",
      "Epoch 83/100\n",
      "38/38 [==============================] - 6s 167ms/step - loss: 0.0015\n",
      "Epoch 84/100\n",
      "38/38 [==============================] - 6s 165ms/step - loss: 0.0016\n",
      "Epoch 85/100\n",
      "38/38 [==============================] - 6s 152ms/step - loss: 0.0016\n",
      "Epoch 86/100\n",
      "38/38 [==============================] - 6s 152ms/step - loss: 0.0016\n",
      "Epoch 87/100\n",
      "38/38 [==============================] - 7s 176ms/step - loss: 0.0016\n",
      "Epoch 88/100\n",
      "38/38 [==============================] - 6s 146ms/step - loss: 0.0015\n",
      "Epoch 89/100\n",
      "38/38 [==============================] - 6s 152ms/step - loss: 0.0017\n",
      "Epoch 90/100\n",
      "38/38 [==============================] - 6s 148ms/step - loss: 0.0016\n",
      "Epoch 91/100\n",
      "38/38 [==============================] - 6s 151ms/step - loss: 0.0015\n",
      "Epoch 92/100\n",
      "38/38 [==============================] - 6s 153ms/step - loss: 0.0016\n",
      "Epoch 93/100\n",
      "38/38 [==============================] - 6s 149ms/step - loss: 0.0017\n",
      "Epoch 94/100\n",
      "38/38 [==============================] - 6s 147ms/step - loss: 0.0014\n",
      "Epoch 95/100\n",
      "38/38 [==============================] - 6s 151ms/step - loss: 0.0015\n",
      "Epoch 96/100\n",
      "38/38 [==============================] - 6s 158ms/step - loss: 0.0015\n",
      "Epoch 97/100\n",
      "38/38 [==============================] - 6s 145ms/step - loss: 0.0015\n",
      "Epoch 98/100\n",
      "38/38 [==============================] - 6s 149ms/step - loss: 0.0014\n",
      "Epoch 99/100\n"
     ]
    },
    {
     "name": "stdout",
     "output_type": "stream",
     "text": [
      "38/38 [==============================] - 6s 146ms/step - loss: 0.0013\n",
      "Epoch 100/100\n",
      "38/38 [==============================] - 5s 143ms/step - loss: 0.0014\n"
     ]
    },
    {
     "data": {
      "text/plain": [
       "<tensorflow.python.keras.callbacks.History at 0x173c0e34948>"
      ]
     },
     "execution_count": 54,
     "metadata": {},
     "output_type": "execute_result"
    }
   ],
   "source": [
    "model.fit(X_train,y_train,batch_size=32,epochs=100)"
   ]
  },
  {
   "cell_type": "code",
   "execution_count": 61,
   "metadata": {},
   "outputs": [],
   "source": [
    "#Now predict the results\n",
    "dataset_total = pd.concat((dataset_train['Open'],dataset_test['Open']),axis=0)"
   ]
  },
  {
   "cell_type": "code",
   "execution_count": 63,
   "metadata": {},
   "outputs": [],
   "source": [
    "X_test = dataset_total[len(dataset_total) -len(dataset_test) - 60:].values"
   ]
  },
  {
   "cell_type": "code",
   "execution_count": 65,
   "metadata": {},
   "outputs": [],
   "source": [
    "X_test = X_test.reshape(-1,1)"
   ]
  },
  {
   "cell_type": "code",
   "execution_count": 66,
   "metadata": {},
   "outputs": [],
   "source": [
    "X_test = sc.transform(X_test)"
   ]
  },
  {
   "cell_type": "code",
   "execution_count": 67,
   "metadata": {},
   "outputs": [
    {
     "data": {
      "text/plain": [
       "(80, 1)"
      ]
     },
     "execution_count": 67,
     "metadata": {},
     "output_type": "execute_result"
    }
   ],
   "source": [
    "X_test.shape"
   ]
  },
  {
   "cell_type": "code",
   "execution_count": 68,
   "metadata": {},
   "outputs": [],
   "source": [
    "inputs = []\n",
    "for i in range(60,X_test.shape[0]):\n",
    "    inputs.append(X_test[i-60:i,0])"
   ]
  },
  {
   "cell_type": "code",
   "execution_count": 93,
   "metadata": {},
   "outputs": [],
   "source": [
    "real_prices = dataset_test.iloc[:,0:1].values"
   ]
  },
  {
   "cell_type": "code",
   "execution_count": 88,
   "metadata": {},
   "outputs": [],
   "source": [
    "inputs = np.reshape(inputs,(inputs.shape[0],inputs.shape[1],1))"
   ]
  },
  {
   "cell_type": "code",
   "execution_count": 92,
   "metadata": {},
   "outputs": [],
   "source": [
    "predicted_prices = model.predict(inputs)\n",
    "predicted_prices = sc.inverse_transform(predicted_prices)"
   ]
  },
  {
   "cell_type": "code",
   "execution_count": 94,
   "metadata": {},
   "outputs": [
    {
     "name": "stderr",
     "output_type": "stream",
     "text": [
      "No handles with labels found to put in legend.\n"
     ]
    },
    {
     "data": {
      "image/png": "[encoded data removed]",
      "text/plain": [
       "<Figure size 432x288 with 1 Axes>"
      ]
     },
     "metadata": {
      "needs_background": "light"
     },
     "output_type": "display_data"
    }
   ],
   "source": [
    "plt.plot(real_prices,color='red')\n",
    "plt.plot(predicted_prices,color='blue')\n",
    "plt.legend()\n",
    "plt.show()"
   ]
  },
  {
   "cell_type": "code",
   "execution_count": null,
   "metadata": {},
   "outputs": [],
   "source": []
  }
 ],
 "metadata": {
  "kernelspec": {
   "display_name": "Python 3",
   "language": "python",
   "name": "python3"
  },
  "language_info": {
   "codemirror_mode": {
    "name": "ipython",
    "version": 3
   },
   "file_extension": ".py",
   "mimetype": "text/x-python",
   "name": "python",
   "nbconvert_exporter": "python",
   "pygments_lexer": "ipython3",
   "version": "3.7.7"
  }
 },
 "nbformat": 4,
 "nbformat_minor": 4
}
